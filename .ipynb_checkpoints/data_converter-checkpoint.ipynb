{
 "cells": [
  {
   "cell_type": "code",
   "execution_count": null,
   "metadata": {},
   "outputs": [
    {
     "name": "stderr",
     "output_type": "stream",
     "text": [
      "\u001b[32mProgress:   8%|████                                     |  ETA: 0:01:09\u001b[39m"
     ]
    }
   ],
   "source": [
    "using TextAnalysis\n",
    "using DataFrames\n",
    "using CSV\n",
    "using Statistics\n",
    "\n",
    "#show progress \n",
    "using ProgressMeter\n",
    "\n",
    "\n",
    "\n",
    "# Load the data\n",
    "data = CSV.read(\"./input/metacritic_with_actual_usercomments/metacritic_game_user_comments.csv\", DataFrame)\n",
    "\n",
    "raw_x = data[!, 5]\n",
    "raw_y = data[!, 4]\n",
    "\n",
    "# Remove missing values\n",
    "# raw_x = dropmissing(raw_x)\n",
    "# raw_y = dropmissing(raw_y)\n",
    "\n",
    "#process data rax_x \n",
    "processed_data = []\n",
    "\n",
    "@showprogress for row in raw_x \n",
    "    doc = \"\"\n",
    "    try \n",
    "        doc = StringDocument(row)\n",
    "        prepare!(doc, strip_case)\n",
    "        prepare!(doc, strip_punctuation)\n",
    "        prepare!(doc, strip_numbers)\n",
    "        prepare!(doc, strip_articles)\n",
    "        prepare!(doc, strip_prepositions)\n",
    "        prepare!(doc, strip_definite_articles)\n",
    "        prepare!(doc, strip_indefinite_articles)\n",
    "\n",
    "        prepare!(doc, strip_pronouns)\n",
    "        prepare!(doc, strip_stopwords)\n",
    "        prepare!(doc, strip_whitespace)\n",
    "        prepare!(doc, strip_non_letters)\n",
    "    catch \n",
    "        doc = StringDocument(\"missing\")\n",
    "    end\n",
    "    \n",
    "    \n",
    "    \n",
    "    push!(processed_data, text(doc))\n",
    "end\n",
    "\n",
    "\n",
    "# Write the processed data to a file\n",
    "open(\"./output/processed_data.txt\", \"w\") do io\n",
    "    for line in processed_data\n",
    "        println(io, line)\n",
    "    end\n",
    "end\n"
   ]
  }
 ],
 "metadata": {
  "kernelspec": {
   "display_name": "Julia 1.9.1",
   "language": "julia",
   "name": "julia-1.9"
  },
  "language_info": {
   "file_extension": ".jl",
   "mimetype": "application/julia",
   "name": "julia",
   "version": "1.9.1"
  }
 },
 "nbformat": 4,
 "nbformat_minor": 2
}
