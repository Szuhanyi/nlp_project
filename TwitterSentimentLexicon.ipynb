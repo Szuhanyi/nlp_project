{
 "cells": [
  {
   "cell_type": "code",
   "execution_count": 1,
   "metadata": {},
   "outputs": [],
   "source": [
    "import pandas as pd\n",
    "import os\n",
    "import string\n",
    "import nltk\n",
    "from nltk.corpus import stopwords\n",
    "from sklearn.naive_bayes import GaussianNB\n",
    "from sklearn.naive_bayes import MultinomialNB\n",
    "from sklearn.naive_bayes import BernoulliNB\n",
    "\n",
    "\n",
    "from sklearn.model_selection import train_test_split\n",
    "from sklearn.feature_extraction.text import CountVectorizer\n",
    "from sklearn.metrics import confusion_matrix\n",
    "import numpy\n",
    "\n"
   ]
  },
  {
   "cell_type": "code",
   "execution_count": 3,
   "metadata": {},
   "outputs": [
    {
     "name": "stdout",
     "output_type": "stream",
     "text": [
      "(25569, 1418)\n",
      "(6393, 1418)\n"
     ]
    }
   ],
   "source": [
    "\n",
    "\n",
    "df_model_train = pd.read_csv('./input/twitter_sentiment/train.csv', encoding='latin-1')\n",
    "\n",
    "X = df_model_train['tweet']\n",
    "y = df_model_train['label']\n",
    "\n",
    "\n",
    "X_train, X_test, y_train, y_test = train_test_split(X, y, test_size=0.2, random_state=0)\n",
    "\n",
    "\n",
    "del df_model_train\n",
    "\n",
    "\n",
    "vec = CountVectorizer(stop_words='english', min_df = 20)\n",
    "\n",
    "vec.fit(X_train)\n",
    "\n",
    "X_train_transformed = vec.transform(X_train)\n",
    "X_test_transformed = vec.transform(X_test)\n",
    "\n",
    "print(X_train_transformed.shape)\n",
    "print(X_test_transformed.shape)"
   ]
  },
  {
   "cell_type": "code",
   "execution_count": 4,
   "metadata": {},
   "outputs": [],
   "source": [
    "model = BernoulliNB()\n",
    "model.fit(X_train_transformed.toarray(),y_train)\n",
    "del X_train_transformed\n",
    "predictions = model.predict(X_test_transformed.toarray())\n",
    "conf_matr = confusion_matrix(y_test, predictions)\n",
    "(conf_matr[0,0]+conf_matr[1,1])/6393"
   ]
  },
  {
   "cell_type": "code",
   "execution_count": 9,
   "metadata": {},
   "outputs": [
    {
     "name": "stdout",
     "output_type": "stream",
     "text": [
      "(25569, 1418)\n",
      "(6393, 1418)\n"
     ]
    },
    {
     "data": {
      "text/plain": [
       "0.6136399186610355"
      ]
     },
     "execution_count": 9,
     "metadata": {},
     "output_type": "execute_result"
    }
   ],
   "source": [
    "df_model_train = pd.read_csv('./input/twitter_sentiment/train.csv', encoding='latin-1')\n",
    "\n",
    "X = df_model_train['tweet']\n",
    "y = df_model_train['label']\n",
    "\n",
    "\n",
    "X_train, X_test, y_train, y_test = train_test_split(X, y, test_size=0.2, random_state=0)\n",
    "\n",
    "\n",
    "del df_model_train\n",
    "\n",
    "\n",
    "vec = CountVectorizer(stop_words='english', min_df = 20)\n",
    "\n",
    "vec.fit(X_train)\n",
    "\n",
    "X_train_transformed = vec.transform(X_train)\n",
    "X_test_transformed = vec.transform(X_test)\n",
    "\n",
    "print(X_train_transformed.shape)\n",
    "print(X_test_transformed.shape)\n",
    "\n",
    "model = GaussianNB()\n",
    "model.fit(X_train_transformed.toarray(),y_train)\n",
    "del X_train_transformed\n",
    "predictions = model.predict(X_test_transformed.toarray())\n",
    "conf_matr = confusion_matrix(y_test, predictions)\n",
    "\n",
    "(conf_matr[0,0]+conf_matr[1,1])/6393"
   ]
  },
  {
   "cell_type": "code",
   "execution_count": 10,
   "metadata": {},
   "outputs": [
    {
     "name": "stdout",
     "output_type": "stream",
     "text": [
      "(25569, 1418)\n",
      "(6393, 1418)\n"
     ]
    },
    {
     "data": {
      "text/plain": [
       "0.9389957766306898"
      ]
     },
     "execution_count": 10,
     "metadata": {},
     "output_type": "execute_result"
    }
   ],
   "source": [
    "df_model_train = pd.read_csv('./input/twitter_sentiment/train.csv', encoding='latin-1')\n",
    "\n",
    "X = df_model_train['tweet']\n",
    "y = df_model_train['label']\n",
    "\n",
    "\n",
    "X_train, X_test, y_train, y_test = train_test_split(X, y, test_size=0.2, random_state=0)\n",
    "\n",
    "\n",
    "del df_model_train\n",
    "\n",
    "\n",
    "vec = CountVectorizer(stop_words='english', min_df = 20)\n",
    "\n",
    "vec.fit(X_train)\n",
    "\n",
    "X_train_transformed = vec.transform(X_train)\n",
    "X_test_transformed = vec.transform(X_test)\n",
    "\n",
    "print(X_train_transformed.shape)\n",
    "print(X_test_transformed.shape)\n",
    "\n",
    "model = MultinomialNB()\n",
    "model.fit(X_train_transformed.toarray(),y_train)\n",
    "del X_train_transformed\n",
    "predictions = model.predict(X_test_transformed.toarray())\n",
    "conf_matr = confusion_matrix(y_test, predictions)\n",
    "(conf_matr[0,0]+conf_matr[1,1])/6393"
   ]
  }
 ],
 "metadata": {
  "kernelspec": {
   "display_name": "venv",
   "language": "python",
   "name": "python3"
  },
  "language_info": {
   "codemirror_mode": {
    "name": "ipython",
    "version": 3
   },
   "file_extension": ".py",
   "mimetype": "text/x-python",
   "name": "python",
   "nbconvert_exporter": "python",
   "pygments_lexer": "ipython3",
   "version": "3.10.11"
  },
  "orig_nbformat": 4
 },
 "nbformat": 4,
 "nbformat_minor": 2
}
