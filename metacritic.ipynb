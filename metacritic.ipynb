{
 "cells": [
  {
   "cell_type": "code",
   "execution_count": 1,
   "metadata": {},
   "outputs": [],
   "source": [
    "import pandas as pd"
   ]
  },
  {
   "cell_type": "code",
   "execution_count": 2,
   "metadata": {},
   "outputs": [],
   "source": [
    "df_model = pd.read_csv('./input/metacritic_with_actual_usercomments/metacritic_game_user_comments.csv')"
   ]
  },
  {
   "cell_type": "code",
   "execution_count": 3,
   "metadata": {},
   "outputs": [
    {
     "data": {
      "text/html": [
       "<div>\n",
       "<style scoped>\n",
       "    .dataframe tbody tr th:only-of-type {\n",
       "        vertical-align: middle;\n",
       "    }\n",
       "\n",
       "    .dataframe tbody tr th {\n",
       "        vertical-align: top;\n",
       "    }\n",
       "\n",
       "    .dataframe thead th {\n",
       "        text-align: right;\n",
       "    }\n",
       "</style>\n",
       "<table border=\"1\" class=\"dataframe\">\n",
       "  <thead>\n",
       "    <tr style=\"text-align: right;\">\n",
       "      <th></th>\n",
       "      <th>Unnamed: 0</th>\n",
       "      <th>Title</th>\n",
       "      <th>Platform</th>\n",
       "      <th>Userscore</th>\n",
       "      <th>Comment</th>\n",
       "      <th>Username</th>\n",
       "    </tr>\n",
       "  </thead>\n",
       "  <tbody>\n",
       "    <tr>\n",
       "      <th>1</th>\n",
       "      <td>1</td>\n",
       "      <td>The Legend of Zelda: Ocarina of Time</td>\n",
       "      <td>Nintendo64</td>\n",
       "      <td>10</td>\n",
       "      <td>I won't bore you with what everyone is already...</td>\n",
       "      <td>Kaistlin</td>\n",
       "    </tr>\n",
       "    <tr>\n",
       "      <th>2</th>\n",
       "      <td>2</td>\n",
       "      <td>The Legend of Zelda: Ocarina of Time</td>\n",
       "      <td>Nintendo64</td>\n",
       "      <td>10</td>\n",
       "      <td>Anyone who gives the masterpiece below a 7 or ...</td>\n",
       "      <td>Jacody</td>\n",
       "    </tr>\n",
       "    <tr>\n",
       "      <th>3</th>\n",
       "      <td>3</td>\n",
       "      <td>The Legend of Zelda: Ocarina of Time</td>\n",
       "      <td>Nintendo64</td>\n",
       "      <td>10</td>\n",
       "      <td>I'm one of those people who think that this is...</td>\n",
       "      <td>doodlerman</td>\n",
       "    </tr>\n",
       "    <tr>\n",
       "      <th>4</th>\n",
       "      <td>4</td>\n",
       "      <td>The Legend of Zelda: Ocarina of Time</td>\n",
       "      <td>Nintendo64</td>\n",
       "      <td>10</td>\n",
       "      <td>This game is the highest rated game on Metacr...</td>\n",
       "      <td>StevenA</td>\n",
       "    </tr>\n",
       "    <tr>\n",
       "      <th>5</th>\n",
       "      <td>5</td>\n",
       "      <td>The Legend of Zelda: Ocarina of Time</td>\n",
       "      <td>Nintendo64</td>\n",
       "      <td>10</td>\n",
       "      <td>I think it's funny that you have Zelda haters ...</td>\n",
       "      <td>joei1382</td>\n",
       "    </tr>\n",
       "    <tr>\n",
       "      <th>6</th>\n",
       "      <td>6</td>\n",
       "      <td>The Legend of Zelda: Ocarina of Time</td>\n",
       "      <td>Nintendo64</td>\n",
       "      <td>9</td>\n",
       "      <td>I played A Link To The Past so many times in m...</td>\n",
       "      <td>Corvix</td>\n",
       "    </tr>\n",
       "    <tr>\n",
       "      <th>7</th>\n",
       "      <td>7</td>\n",
       "      <td>The Legend of Zelda: Ocarina of Time</td>\n",
       "      <td>Nintendo64</td>\n",
       "      <td>10</td>\n",
       "      <td>The Legend of Zelda: Ocarina of Time is withou...</td>\n",
       "      <td>pittsburghboy91</td>\n",
       "    </tr>\n",
       "    <tr>\n",
       "      <th>8</th>\n",
       "      <td>8</td>\n",
       "      <td>The Legend of Zelda: Ocarina of Time</td>\n",
       "      <td>Nintendo64</td>\n",
       "      <td>10</td>\n",
       "      <td>This review contains spoilers, cli...</td>\n",
       "      <td>Nosidda89</td>\n",
       "    </tr>\n",
       "    <tr>\n",
       "      <th>9</th>\n",
       "      <td>9</td>\n",
       "      <td>The Legend of Zelda: Ocarina of Time</td>\n",
       "      <td>Nintendo64</td>\n",
       "      <td>10</td>\n",
       "      <td>I'm not kidding when I say that this is the on...</td>\n",
       "      <td>Regeneration13</td>\n",
       "    </tr>\n",
       "  </tbody>\n",
       "</table>\n",
       "</div>"
      ],
      "text/plain": [
       "   Unnamed: 0                                 Title    Platform  Userscore  \\\n",
       "1           1  The Legend of Zelda: Ocarina of Time  Nintendo64         10   \n",
       "2           2  The Legend of Zelda: Ocarina of Time  Nintendo64         10   \n",
       "3           3  The Legend of Zelda: Ocarina of Time  Nintendo64         10   \n",
       "4           4  The Legend of Zelda: Ocarina of Time  Nintendo64         10   \n",
       "5           5  The Legend of Zelda: Ocarina of Time  Nintendo64         10   \n",
       "6           6  The Legend of Zelda: Ocarina of Time  Nintendo64          9   \n",
       "7           7  The Legend of Zelda: Ocarina of Time  Nintendo64         10   \n",
       "8           8  The Legend of Zelda: Ocarina of Time  Nintendo64         10   \n",
       "9           9  The Legend of Zelda: Ocarina of Time  Nintendo64         10   \n",
       "\n",
       "                                             Comment         Username  \n",
       "1  I won't bore you with what everyone is already...         Kaistlin  \n",
       "2  Anyone who gives the masterpiece below a 7 or ...           Jacody  \n",
       "3  I'm one of those people who think that this is...       doodlerman  \n",
       "4   This game is the highest rated game on Metacr...          StevenA  \n",
       "5  I think it's funny that you have Zelda haters ...         joei1382  \n",
       "6  I played A Link To The Past so many times in m...           Corvix  \n",
       "7  The Legend of Zelda: Ocarina of Time is withou...  pittsburghboy91  \n",
       "8              This review contains spoilers, cli...        Nosidda89  \n",
       "9  I'm not kidding when I say that this is the on...   Regeneration13  "
      ]
     },
     "execution_count": 3,
     "metadata": {},
     "output_type": "execute_result"
    }
   ],
   "source": [
    "df_model[1:10]"
   ]
  },
  {
   "cell_type": "code",
   "execution_count": 4,
   "metadata": {},
   "outputs": [],
   "source": [
    "raw_x = df_model.Comment\n",
    "train_y = df_model.Userscore"
   ]
  },
  {
   "cell_type": "code",
   "execution_count": 5,
   "metadata": {},
   "outputs": [
    {
     "name": "stdout",
     "output_type": "stream",
     "text": [
      "(283983,)\n",
      "(283983,)\n"
     ]
    },
    {
     "data": {
      "text/plain": [
       "(None, None)"
      ]
     },
     "execution_count": 5,
     "metadata": {},
     "output_type": "execute_result"
    }
   ],
   "source": [
    "print(raw_x.shape), print(train_y.shape)"
   ]
  },
  {
   "cell_type": "code",
   "execution_count": 6,
   "metadata": {},
   "outputs": [
    {
     "data": {
      "text/plain": [
       "(\"I won't bore you with what everyone is already saying about how amazing this game is.  But if you're on the fence about whether to give this classic a try, go read IGN's review.\",\n",
       " 177)"
      ]
     },
     "execution_count": 6,
     "metadata": {},
     "output_type": "execute_result"
    }
   ],
   "source": [
    "#length of the first comment\n",
    "raw_x[1] , len(raw_x[1])"
   ]
  },
  {
   "cell_type": "code",
   "execution_count": 7,
   "metadata": {},
   "outputs": [],
   "source": [
    "# create a corpus then tokenize it and remove stop words\n",
    "from nltk.corpus import stopwords\n",
    "from nltk.tokenize import word_tokenize\n",
    "import string\n",
    "from nltk.stem import WordNetLemmatizer\n",
    "#add stemmer \n",
    "from nltk.stem import PorterStemmer\n"
   ]
  },
  {
   "cell_type": "code",
   "execution_count": null,
   "metadata": {},
   "outputs": [
    {
     "name": "stderr",
     "output_type": "stream",
     "text": [
      "  0%|          | 0/100000 [00:00<?, ?it/s]"
     ]
    },
    {
     "name": "stderr",
     "output_type": "stream",
     "text": [
      "  0%|          | 89/100000 [00:03<37:20, 44.58it/s]  "
     ]
    },
    {
     "name": "stderr",
     "output_type": "stream",
     "text": [
      "  0%|          | 133/100000 [00:05<1:52:23, 14.81it/s]"
     ]
    }
   ],
   "source": [
    "#create corpus from raw_x \n",
    "corpus = []\n",
    "#show progress for the cycle below\n",
    "from tqdm import tqdm\n",
    "import pickle\n",
    "\n",
    "chucnks = 3\n",
    "\n",
    "for k in   range(0,chucnks):\n",
    "    startIndex = k*100\n",
    "    endIndex = min((k+1)*100, len(raw_x))\n",
    "    for i in tqdm(range(startIndex, endIndex)):\n",
    "        #remove punctuation    \n",
    "        try:\n",
    "            text = raw_x[i].translate(str.maketrans('', '', string.punctuation))\n",
    "            # lower case\n",
    "            text = text.lower()\n",
    "            # remove numbers\n",
    "            text = ''.join([i for i in text if not i.isdigit()])\n",
    "\n",
    "            #tokenize\n",
    "            text = word_tokenize(text)\n",
    "\n",
    "            #remove stop words\n",
    "            text = [word for word in text if word not in stopwords.words('english')]\n",
    "            # stem words\n",
    "            stemmer = PorterStemmer()\n",
    "            text = [stemmer.stem(word) for word in text]\n",
    "\n",
    "            #join back\n",
    "            text = ' '.join(text)\n",
    "\n",
    "        except:\n",
    "            text = raw_x[i]\n",
    "        corpus.append(text)\n",
    "    fileName = './input/metacritic_with_actual_usercomments/corpus' + str(k) + '.pkl'\n",
    "    with open(fileName, 'wb') as f:\n",
    "        pickle.dump(corpus, f)\n",
    "\n",
    "corpus[1:10]\n"
   ]
  },
  {
   "cell_type": "code",
   "execution_count": 48,
   "metadata": {},
   "outputs": [],
   "source": [
    "# save processed corpus with labels train_y\n",
    "\n",
    "\n",
    "\n",
    "\n",
    "    "
   ]
  },
  {
   "cell_type": "code",
   "execution_count": 49,
   "metadata": {},
   "outputs": [
    {
     "data": {
      "text/plain": [
       "['wont bore everyon alreadi say amaz game your fenc whether give classic tri go read ign review',\n",
       " 'anyon give masterpiec either hate astound zelda franchis doesnt know damn good game insan dungeon interest uniqu charact interest person stori highli engag combat vari fluid fun item amaz plethora interest side questsanyon give masterpiec either hate astound zelda franchis doesnt know damn good game insan dungeon interest uniqu charact interest person stori highli engag combat vari fluid fun item amaz plethora interest side quest collect consid fact game made graphic amaz real downsid game somewhat linear cant continu beat final boss doesnt detract huge amount fun play game one best game ever made other said',\n",
       " 'im one peopl think greatest game time matter qualiti game ever plain best game ive ever play partli first good game ive actual play first got nintendo consider young yet everi game play thought absolut horribl hadim one peopl think greatest game time matter qualiti game ever plain best game ive ever play partli first good game ive actual play first got nintendo consider young yet everi game play thought absolut horribl simpl object game child thought hard pointless one day ocarina time brought home first refus play watch father play straight away someth entir new differ also time real least brought abil actual explor get know peopl even peopl talk repeat thing matter mani time talk didnt matter game someth new excit day get good old nostalg feel whenev play one greatest stori time video game one first creat sort univers one first environ game see degre mario plu day peopl still discov new secret game mani indepth theori aris titl alon base upon game keep interest charact feel like charact visual cinemat time gameplay also fun cours one import thing involv puzzl simpl enough appear complex get much could say game sometim even look back im loss word awesom game',\n",
       " 'game highest rate game metacrit good reason take element everi game exist multipli sever time almost year later play ocarina time still see thing game decad stand test time forev heart greatest game time game highest rate game metacrit good reason take element everi game exist multipli sever time almost year later play ocarina time still see thing game decad stand test time forev heart greatest game time ever world mani game tri conquer titl fail im happi say',\n",
       " 'think funni zelda hater write review base person feel toward game oppos game play actual ocarina time one singl greatest game ever creat set preced futur game graphic unriv time game actual took real skill beat time word iti think funni zelda hater write review base person feel toward game oppos game play actual ocarina time one singl greatest game ever creat set preced futur game graphic unriv time game actual took real skill beat time word wasnt someth would pick beat hour never look still pick game still play enjoy everi singl second',\n",
       " 'play link past mani time childhood lost count got oot christma bye bye childhood game definit epic love everi second',\n",
       " 'legend zelda ocarina time without doubt one greatest video game time say game great understat ocarina introduc game world aspect open world play wonder size map larg full explor slightest bit unnecessari level dungeon design best time andth legend zelda ocarina time without doubt one greatest video game time say game great understat ocarina introduc game world aspect open world play wonder size map larg full explor slightest bit unnecessari level dungeon design best time still day remain one brilliant beauti interest world video game market everi area explor moment wake lush green forest kokiri vast deep desert gerudo craft perfect combat system ocarina also shine star weapon feel right react well play perfectli alway interest advantag weapon outshin anoth great purpos ztarget system ad cinemat feel work flawlessli even made combat easier interest music sound game brought life well everi area theme music uniqu zone alway felt right gave player person feel wherev hesh went kokiri forest felt like wonder place happi hyrul field epic power tone addit music gameplay made thing interest well show import everi area player visit importantli zelda seri video game matter come stori legend zelda alway seri shine glori adventur biggest power begin young boy alway felt left nightmar dark vision would becom realiti start quest realiz true destini embark journey fill adventur courag like dark king gerudo gannondorf seek legendari triforc stop noth rule land hyrul unleash monster templ hyrul turn good land pure evil gannondorf attempt total rule world link hero hyrul must journey differ land templ land order gain power mystic sage stop gannondorf stori ocarina be great never let go fact game get better everi second progress meet mani interest charact princess ruto malon darunia mysteri sheik individu trait also contain import role quest also charact easili rememb full emot grasp player give sens care passion one mani templ dungeon visit game fun uniqu interest reward player hesh progress game quit side quest entertain follow right end noth neg game day stand pedest one greatest game time good reason sinc releas game captur true stori art power ocarina time master back day still play still consid favorit game ever great graphic onlin play anyth els current game fallen zelda game touch heart like game ever current game develop enthusiast need look back legend zelda ocarina time reconsid direct game go zelda master honor',\n",
       " 'review contain spoiler click expand view game doubt greatest game exist non except nintendo hater abl play game without admit least one best best best best super mario first game make convers work game perfect introduc larg dimension world explor time huge deal also introduc new gameplay mechan made action adventur genr work even like lockon target system help keep eye enemi much easier without make fight easi meneuv around enemi dodg attack anoth big new featur horseback ride ride hors around huge field big new engag stori realli suck lot twist turn like ganondorf attack castl destroy plan get triforc ganon near end shiek man help journey adult reveal princess zelda person link search long hard anoth thing convers young link adult link first zelda game introduc adult link make look epic like hero legend bigger twist play young link adult link stori count use make way stori alot complic dungeon puzzl solv sometim twist brain make game much challeng love zelda flawless gameplay beauti landscap zelda ocarina time first brought forth perfect convers made beauti also made mechan work game play work beauti cours game isnt perfect flaw ocarina time like water templ unpopular dungeon game everyon hard time prove bit challeng plu part game graphic dont look good howev flaw sever enough interfer game overal great may thing perfect game game close perfect game get zelda ocarina time game year got honor award outstand game achiev didnt win award without good reason game truley best game time anyon think make game better absolut crazi sure ocarina time may outstand today standard consid technolog game time best game could offer even year game came ocarina time still sell like nut via wii virtual consol rereleas ocarina time opinion ocarina time alway greatest game ever made im alon statement yet meet person zelda hater play ocarina time thought game horribl ocarina time best best game hand deserv perfect score game',\n",
       " 'im kid say game would ever consid perfect one person ever enjoy video game play isnt even favourit video gamebut consid perfect realli good anyon come along nitpick away ocarina time wouldnt know good game trot along kill grandmoth illim kid say game would ever consid perfect one person ever enjoy video game play isnt even favourit video gamebut consid perfect realli good anyon come along nitpick away ocarina time wouldnt know good game trot along kill grandmoth ill admit without flaw noth flaw mere physic perfect mean go everyth could right remain good everyon ocarina time continu']"
      ]
     },
     "execution_count": 49,
     "metadata": {},
     "output_type": "execute_result"
    }
   ],
   "source": [
    "# load saved corpus from the picke file \n",
    "import pickle\n",
    "\n",
    "with open('./input/metacritic_with_actual_usercomments/corpus.pkl', 'rb') as f:\n",
    "    corpus = pickle.load(f)\n",
    "\n",
    "corpus[1:10]"
   ]
  },
  {
   "cell_type": "code",
   "execution_count": 47,
   "metadata": {},
   "outputs": [
    {
     "data": {
      "text/plain": [
       "array([ 8, 10, 10, 10, 10, 10, 10, 10, 10, 10], dtype=int64)"
      ]
     },
     "execution_count": 47,
     "metadata": {},
     "output_type": "execute_result"
    }
   ],
   "source": [
    "# create naive bayes model for corpus and train_y\n",
    "from sklearn.feature_extraction.text import CountVectorizer\n",
    "from sklearn.naive_bayes import MultinomialNB\n",
    "from sklearn.pipeline import Pipeline\n",
    "\n",
    "\n",
    "\n",
    "# create pipeline\n",
    "text_clf = Pipeline([('vect', CountVectorizer()),\n",
    "                        ('clf', MultinomialNB())])\n",
    "\n",
    "# train model\n",
    "text_clf.fit(corpus, train_y[1:10001])\n",
    "\n",
    "# test model\n",
    "test_x = corpus[8150:8160]\n",
    "predicted = text_clf.predict(test_x)\n",
    "predicted\n"
   ]
  }
 ],
 "metadata": {
  "kernelspec": {
   "display_name": "venv",
   "language": "python",
   "name": "python3"
  },
  "language_info": {
   "codemirror_mode": {
    "name": "ipython",
    "version": 3
   },
   "file_extension": ".py",
   "mimetype": "text/x-python",
   "name": "python",
   "nbconvert_exporter": "python",
   "pygments_lexer": "ipython3",
   "version": "3.10.11"
  },
  "orig_nbformat": 4
 },
 "nbformat": 4,
 "nbformat_minor": 2
}
