{
 "cells": [
  {
   "cell_type": "code",
   "execution_count": 1,
   "metadata": {},
   "outputs": [],
   "source": [
    "import pandas as pd\n",
    "import os\n",
    "import string\n",
    "import nltk\n",
    "from nltk.corpus import stopwords\n",
    "from sklearn.naive_bayes import GaussianNB\n",
    "from sklearn.naive_bayes import MultinomialNB\n",
    "from sklearn.naive_bayes import BernoulliNB\n",
    "\n",
    "\n",
    "from sklearn.model_selection import train_test_split\n",
    "from sklearn.feature_extraction.text import CountVectorizer\n",
    "from sklearn.metrics import confusion_matrix\n",
    "import numpy\n"
   ]
  },
  {
   "cell_type": "code",
   "execution_count": 2,
   "metadata": {},
   "outputs": [],
   "source": [
    "df_model = pd.read_csv('./input/metacritic_with_actual_usercomments/metacritic_game_user_comments.csv')"
   ]
  },
  {
   "cell_type": "code",
   "execution_count": 3,
   "metadata": {},
   "outputs": [
    {
     "data": {
      "text/html": [
       "<div>\n",
       "<style scoped>\n",
       "    .dataframe tbody tr th:only-of-type {\n",
       "        vertical-align: middle;\n",
       "    }\n",
       "\n",
       "    .dataframe tbody tr th {\n",
       "        vertical-align: top;\n",
       "    }\n",
       "\n",
       "    .dataframe thead th {\n",
       "        text-align: right;\n",
       "    }\n",
       "</style>\n",
       "<table border=\"1\" class=\"dataframe\">\n",
       "  <thead>\n",
       "    <tr style=\"text-align: right;\">\n",
       "      <th></th>\n",
       "      <th>Unnamed: 0</th>\n",
       "      <th>Title</th>\n",
       "      <th>Platform</th>\n",
       "      <th>Userscore</th>\n",
       "      <th>Comment</th>\n",
       "      <th>Username</th>\n",
       "    </tr>\n",
       "  </thead>\n",
       "  <tbody>\n",
       "    <tr>\n",
       "      <th>1</th>\n",
       "      <td>1</td>\n",
       "      <td>The Legend of Zelda: Ocarina of Time</td>\n",
       "      <td>Nintendo64</td>\n",
       "      <td>10</td>\n",
       "      <td>I won't bore you with what everyone is already...</td>\n",
       "      <td>Kaistlin</td>\n",
       "    </tr>\n",
       "    <tr>\n",
       "      <th>2</th>\n",
       "      <td>2</td>\n",
       "      <td>The Legend of Zelda: Ocarina of Time</td>\n",
       "      <td>Nintendo64</td>\n",
       "      <td>10</td>\n",
       "      <td>Anyone who gives the masterpiece below a 7 or ...</td>\n",
       "      <td>Jacody</td>\n",
       "    </tr>\n",
       "    <tr>\n",
       "      <th>3</th>\n",
       "      <td>3</td>\n",
       "      <td>The Legend of Zelda: Ocarina of Time</td>\n",
       "      <td>Nintendo64</td>\n",
       "      <td>10</td>\n",
       "      <td>I'm one of those people who think that this is...</td>\n",
       "      <td>doodlerman</td>\n",
       "    </tr>\n",
       "    <tr>\n",
       "      <th>4</th>\n",
       "      <td>4</td>\n",
       "      <td>The Legend of Zelda: Ocarina of Time</td>\n",
       "      <td>Nintendo64</td>\n",
       "      <td>10</td>\n",
       "      <td>This game is the highest rated game on Metacr...</td>\n",
       "      <td>StevenA</td>\n",
       "    </tr>\n",
       "    <tr>\n",
       "      <th>5</th>\n",
       "      <td>5</td>\n",
       "      <td>The Legend of Zelda: Ocarina of Time</td>\n",
       "      <td>Nintendo64</td>\n",
       "      <td>10</td>\n",
       "      <td>I think it's funny that you have Zelda haters ...</td>\n",
       "      <td>joei1382</td>\n",
       "    </tr>\n",
       "    <tr>\n",
       "      <th>6</th>\n",
       "      <td>6</td>\n",
       "      <td>The Legend of Zelda: Ocarina of Time</td>\n",
       "      <td>Nintendo64</td>\n",
       "      <td>9</td>\n",
       "      <td>I played A Link To The Past so many times in m...</td>\n",
       "      <td>Corvix</td>\n",
       "    </tr>\n",
       "    <tr>\n",
       "      <th>7</th>\n",
       "      <td>7</td>\n",
       "      <td>The Legend of Zelda: Ocarina of Time</td>\n",
       "      <td>Nintendo64</td>\n",
       "      <td>10</td>\n",
       "      <td>The Legend of Zelda: Ocarina of Time is withou...</td>\n",
       "      <td>pittsburghboy91</td>\n",
       "    </tr>\n",
       "    <tr>\n",
       "      <th>8</th>\n",
       "      <td>8</td>\n",
       "      <td>The Legend of Zelda: Ocarina of Time</td>\n",
       "      <td>Nintendo64</td>\n",
       "      <td>10</td>\n",
       "      <td>This review contains spoilers, cli...</td>\n",
       "      <td>Nosidda89</td>\n",
       "    </tr>\n",
       "    <tr>\n",
       "      <th>9</th>\n",
       "      <td>9</td>\n",
       "      <td>The Legend of Zelda: Ocarina of Time</td>\n",
       "      <td>Nintendo64</td>\n",
       "      <td>10</td>\n",
       "      <td>I'm not kidding when I say that this is the on...</td>\n",
       "      <td>Regeneration13</td>\n",
       "    </tr>\n",
       "  </tbody>\n",
       "</table>\n",
       "</div>"
      ],
      "text/plain": [
       "   Unnamed: 0                                 Title    Platform  Userscore  \\\n",
       "1           1  The Legend of Zelda: Ocarina of Time  Nintendo64         10   \n",
       "2           2  The Legend of Zelda: Ocarina of Time  Nintendo64         10   \n",
       "3           3  The Legend of Zelda: Ocarina of Time  Nintendo64         10   \n",
       "4           4  The Legend of Zelda: Ocarina of Time  Nintendo64         10   \n",
       "5           5  The Legend of Zelda: Ocarina of Time  Nintendo64         10   \n",
       "6           6  The Legend of Zelda: Ocarina of Time  Nintendo64          9   \n",
       "7           7  The Legend of Zelda: Ocarina of Time  Nintendo64         10   \n",
       "8           8  The Legend of Zelda: Ocarina of Time  Nintendo64         10   \n",
       "9           9  The Legend of Zelda: Ocarina of Time  Nintendo64         10   \n",
       "\n",
       "                                             Comment         Username  \n",
       "1  I won't bore you with what everyone is already...         Kaistlin  \n",
       "2  Anyone who gives the masterpiece below a 7 or ...           Jacody  \n",
       "3  I'm one of those people who think that this is...       doodlerman  \n",
       "4   This game is the highest rated game on Metacr...          StevenA  \n",
       "5  I think it's funny that you have Zelda haters ...         joei1382  \n",
       "6  I played A Link To The Past so many times in m...           Corvix  \n",
       "7  The Legend of Zelda: Ocarina of Time is withou...  pittsburghboy91  \n",
       "8              This review contains spoilers, cli...        Nosidda89  \n",
       "9  I'm not kidding when I say that this is the on...   Regeneration13  "
      ]
     },
     "execution_count": 3,
     "metadata": {},
     "output_type": "execute_result"
    }
   ],
   "source": [
    "df_model[1:10]"
   ]
  },
  {
   "cell_type": "code",
   "execution_count": 4,
   "metadata": {},
   "outputs": [],
   "source": [
    "raw_x = df_model.Comment\n",
    "train_y = round(df_model.Userscore * 0.1)\n"
   ]
  },
  {
   "cell_type": "code",
   "execution_count": 5,
   "metadata": {},
   "outputs": [
    {
     "data": {
      "text/plain": [
       "0         1.0\n",
       "1         1.0\n",
       "2         1.0\n",
       "3         1.0\n",
       "4         1.0\n",
       "         ... \n",
       "283978    1.0\n",
       "283979    0.0\n",
       "283980    1.0\n",
       "283981    1.0\n",
       "283982    1.0\n",
       "Name: Userscore, Length: 283983, dtype: float64"
      ]
     },
     "execution_count": 5,
     "metadata": {},
     "output_type": "execute_result"
    }
   ],
   "source": [
    "train_y"
   ]
  },
  {
   "cell_type": "code",
   "execution_count": 6,
   "metadata": {},
   "outputs": [
    {
     "name": "stdout",
     "output_type": "stream",
     "text": [
      "(283983,)\n",
      "(283983,)\n"
     ]
    },
    {
     "data": {
      "text/plain": [
       "(None, None)"
      ]
     },
     "execution_count": 6,
     "metadata": {},
     "output_type": "execute_result"
    }
   ],
   "source": [
    "print(raw_x.shape), print(train_y.shape)"
   ]
  },
  {
   "cell_type": "code",
   "execution_count": 7,
   "metadata": {},
   "outputs": [
    {
     "data": {
      "text/plain": [
       "(\"I won't bore you with what everyone is already saying about how amazing this game is.  But if you're on the fence about whether to give this classic a try, go read IGN's review.\",\n",
       " 177)"
      ]
     },
     "execution_count": 7,
     "metadata": {},
     "output_type": "execute_result"
    }
   ],
   "source": [
    "#length of the first comment\n",
    "raw_x[1] , len(raw_x[1])"
   ]
  },
  {
   "cell_type": "code",
   "execution_count": 8,
   "metadata": {},
   "outputs": [
    {
     "data": {
      "text/plain": [
       "(283983, 283983)"
      ]
     },
     "execution_count": 8,
     "metadata": {},
     "output_type": "execute_result"
    }
   ],
   "source": [
    "# read all the lines from input/processed_data.txt\n",
    "\n",
    "with open('./input/metacritic_with_actual_usercomments/processed_data.txt', 'r') as f:\n",
    "    train_x = f.readlines()\n",
    "\n",
    "len(train_x), len(train_y)\n",
    "\n",
    "\n"
   ]
  },
  {
   "cell_type": "code",
   "execution_count": 9,
   "metadata": {},
   "outputs": [
    {
     "data": {
      "text/plain": [
       "('wont bore say amaz game your fenc classic tri read ign review\\n', 1.0)"
      ]
     },
     "execution_count": 9,
     "metadata": {},
     "output_type": "execute_result"
    }
   ],
   "source": [
    "train_x[1], train_y[1]\n",
    "    "
   ]
  },
  {
   "cell_type": "code",
   "execution_count": 19,
   "metadata": {},
   "outputs": [
    {
     "name": "stdout",
     "output_type": "stream",
     "text": [
      "147978\n"
     ]
    },
    {
     "data": {
      "text/html": [
       "<div>\n",
       "<style scoped>\n",
       "    .dataframe tbody tr th:only-of-type {\n",
       "        vertical-align: middle;\n",
       "    }\n",
       "\n",
       "    .dataframe tbody tr th {\n",
       "        vertical-align: top;\n",
       "    }\n",
       "\n",
       "    .dataframe thead th {\n",
       "        text-align: right;\n",
       "    }\n",
       "</style>\n",
       "<table border=\"1\" class=\"dataframe\">\n",
       "  <thead>\n",
       "    <tr style=\"text-align: right;\">\n",
       "      <th></th>\n",
       "      <th>Comment</th>\n",
       "      <th>Userscore</th>\n",
       "    </tr>\n",
       "  </thead>\n",
       "  <tbody>\n",
       "    <tr>\n",
       "      <th>2</th>\n",
       "      <td>masterpiec hate astound zelda franchis doesnt ...</td>\n",
       "      <td>1.0</td>\n",
       "    </tr>\n",
       "    <tr>\n",
       "      <th>3</th>\n",
       "      <td>im peopl game time matter qualiti game plain g...</td>\n",
       "      <td>1.0</td>\n",
       "    </tr>\n",
       "    <tr>\n",
       "      <th>4</th>\n",
       "      <td>game rate game metacrit reason take element ga...</td>\n",
       "      <td>1.0</td>\n",
       "    </tr>\n",
       "    <tr>\n",
       "      <th>5</th>\n",
       "      <td>funni zelda hater write review base person fee...</td>\n",
       "      <td>1.0</td>\n",
       "    </tr>\n",
       "    <tr>\n",
       "      <th>7</th>\n",
       "      <td>legend zelda ocarina time doubt video game tim...</td>\n",
       "      <td>1.0</td>\n",
       "    </tr>\n",
       "  </tbody>\n",
       "</table>\n",
       "</div>"
      ],
      "text/plain": [
       "                                             Comment  Userscore\n",
       "2  masterpiec hate astound zelda franchis doesnt ...        1.0\n",
       "3  im peopl game time matter qualiti game plain g...        1.0\n",
       "4  game rate game metacrit reason take element ga...        1.0\n",
       "5  funni zelda hater write review base person fee...        1.0\n",
       "7  legend zelda ocarina time doubt video game tim...        1.0"
      ]
     },
     "execution_count": 19,
     "metadata": {},
     "output_type": "execute_result"
    }
   ],
   "source": [
    "comments = pd.DataFrame({'Comment':train_x, 'Userscore':train_y})\n",
    "comments = comments[pd.notnull(comments['Comment'])]\n",
    "# comments.drop(['Unnamed: 0','Username'], axis=1, inplace=True)\n",
    "comments = comments[comments['Comment'].str.len() > 200]\n",
    "\n",
    "print(len(comments))\n",
    "comments.head()"
   ]
  },
  {
   "cell_type": "code",
   "execution_count": 20,
   "metadata": {},
   "outputs": [],
   "source": [
    "train_x = comments.Comment\n",
    "train_y = comments.Userscore"
   ]
  },
  {
   "cell_type": "code",
   "execution_count": null,
   "metadata": {},
   "outputs": [],
   "source": []
  },
  {
   "cell_type": "code",
   "execution_count": 21,
   "metadata": {},
   "outputs": [],
   "source": [
    "from sklearn.model_selection import train_test_split\n",
    "X_train, X_test, y_train, y_test = train_test_split(train_x, train_y, test_size=0.5, random_state=0)"
   ]
  },
  {
   "cell_type": "code",
   "execution_count": 22,
   "metadata": {},
   "outputs": [
    {
     "name": "stdout",
     "output_type": "stream",
     "text": [
      "(73989, 10526)\n",
      "(73989, 10526)\n"
     ]
    }
   ],
   "source": [
    "from sklearn.feature_extraction.text import CountVectorizer\n",
    "vec = CountVectorizer(stop_words='english', min_df = 20)\n",
    "\n",
    "vec.fit(X_train)\n",
    "\n",
    "X_train_transformed = vec.transform(X_train)\n",
    "X_test_transformed = vec.transform(X_test)\n",
    "\n",
    "print(X_train_transformed.shape)\n",
    "print(X_test_transformed.shape)\n",
    "model = MultinomialNB()\n",
    "model.fit(X_train_transformed.toarray(),y_train)\n",
    "del X_train_transformed\n",
    "predictions = model.predict(X_test_transformed.toarray())\n",
    "conf_matr = confusion_matrix(y_test, predictions)\n",
    "(conf_matr[0,0]+conf_matr[1,1])/73989\n",
    "\n",
    "\n"
   ]
  },
  {
   "cell_type": "code",
   "execution_count": 25,
   "metadata": {},
   "outputs": [
    {
     "name": "stdout",
     "output_type": "stream",
     "text": [
      "(73989, 10526)\n",
      "(73989, 10526)\n"
     ]
    },
    {
     "data": {
      "text/plain": [
       "0.5144953979645623"
      ]
     },
     "execution_count": 25,
     "metadata": {},
     "output_type": "execute_result"
    }
   ],
   "source": [
    "from sklearn.feature_extraction.text import CountVectorizer\n",
    "vec = CountVectorizer(stop_words='english', min_df = 20)\n",
    "\n",
    "vec.fit(X_train)\n",
    "\n",
    "X_train_transformed = vec.transform(X_train)\n",
    "X_test_transformed = vec.transform(X_test)\n",
    "\n",
    "print(X_train_transformed.shape)\n",
    "print(X_test_transformed.shape)\n",
    "\n",
    "\n",
    "model = GaussianNB()\n",
    "model.fit(X_train_transformed.toarray(),y_train)\n",
    "del X_train_transformed\n",
    "predictions = model.predict(X_test_transformed.toarray())\n",
    "conf_matr = confusion_matrix(y_test, predictions)\n",
    "(conf_matr[0,0]+conf_matr[1,1])/73989"
   ]
  },
  {
   "cell_type": "code",
   "execution_count": 26,
   "metadata": {},
   "outputs": [
    {
     "name": "stdout",
     "output_type": "stream",
     "text": [
      "(73989, 10526)\n",
      "(73989, 10526)\n"
     ]
    },
    {
     "data": {
      "text/plain": [
       "0.8349484382813661"
      ]
     },
     "execution_count": 26,
     "metadata": {},
     "output_type": "execute_result"
    }
   ],
   "source": [
    "from sklearn.feature_extraction.text import CountVectorizer\n",
    "vec = CountVectorizer(stop_words='english', min_df = 20)\n",
    "\n",
    "vec.fit(X_train)\n",
    "\n",
    "X_train_transformed = vec.transform(X_train)\n",
    "X_test_transformed = vec.transform(X_test)\n",
    "\n",
    "print(X_train_transformed.shape)\n",
    "print(X_test_transformed.shape)\n",
    "\n",
    "\n",
    "model = BernoulliNB()\n",
    "model.fit(X_train_transformed.toarray(),y_train)\n",
    "del X_train_transformed\n",
    "predictions = model.predict(X_test_transformed.toarray())\n",
    "conf_matr = confusion_matrix(y_test, predictions)\n",
    "(conf_matr[0,0]+conf_matr[1,1])/73989"
   ]
  }
 ],
 "metadata": {
  "kernelspec": {
   "display_name": "venv",
   "language": "python",
   "name": "python3"
  },
  "language_info": {
   "codemirror_mode": {
    "name": "ipython",
    "version": 3
   },
   "file_extension": ".py",
   "mimetype": "text/x-python",
   "name": "python",
   "nbconvert_exporter": "python",
   "pygments_lexer": "ipython3",
   "version": "3.10.11"
  },
  "orig_nbformat": 4
 },
 "nbformat": 4,
 "nbformat_minor": 2
}
